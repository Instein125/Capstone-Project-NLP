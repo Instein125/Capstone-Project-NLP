{
 "cells": [
  {
   "cell_type": "code",
   "execution_count": 1,
   "metadata": {},
   "outputs": [],
   "source": [
    "import pandas as pd\n",
    "import numpy as np\n",
    "import matplotlib.pylab as plt\n",
    "import seaborn as sns\n",
    "import os\n",
    "import soundfile as sf\n",
    "import random\n",
    "\n",
    "from glob import glob\n",
    "\n",
    "import librosa\n",
    "import librosa.display\n",
    "import IPython.display as ipd\n",
    "\n",
    "from itertools import cycle\n",
    "\n",
    "sns.set_theme(style=\"white\", palette=None)\n",
    "color_pal = plt.rcParams[\"axes.prop_cycle\"].by_key()[\"color\"]\n",
    "color_cycle = cycle(plt.rcParams[\"axes.prop_cycle\"].by_key()[\"color\"])"
   ]
  },
  {
   "cell_type": "code",
   "execution_count": 5,
   "metadata": {},
   "outputs": [],
   "source": [
    "# Defining the paths to the clean audio and noise audio folders\n",
    "clean_audio_folder = 'clean_audio'\n",
    "noise_audio_folder = 'noise_audio'\n",
    "trimmed_clean_folder = 'trimmed_clean_audio'\n",
    "trimmed_noise_folder = 'trimmed_noise_audio'\n",
    "output_folder = 'new_noised_speech'\n",
    "\n",
    "if not os.path.exists(output_folder):\n",
    "    os.makedirs(output_folder)"
   ]
  },
  {
   "cell_type": "code",
   "execution_count": 7,
   "metadata": {},
   "outputs": [],
   "source": [
    "import random\n",
    "# Set a seed for reproducibility\n",
    "random.seed(1234) "
   ]
  },
  {
   "cell_type": "code",
   "execution_count": 6,
   "metadata": {},
   "outputs": [
    {
     "name": "stdout",
     "output_type": "stream",
     "text": [
      "Noisy audio saved at new_noised_speech\\p234_001_1.wav\n",
      "Noisy audio saved at new_noised_speech\\p234_001_2.wav\n",
      "Noisy audio saved at new_noised_speech\\p234_001_3.wav\n",
      "Noisy audio saved at new_noised_speech\\p234_009_1.wav\n",
      "Noisy audio saved at new_noised_speech\\p234_009_2.wav\n",
      "Noisy audio saved at new_noised_speech\\p234_009_3.wav\n",
      "Noisy audio saved at new_noised_speech\\p234_010_1.wav\n",
      "Noisy audio saved at new_noised_speech\\p234_010_2.wav\n",
      "Noisy audio saved at new_noised_speech\\p234_010_3.wav\n",
      "Noisy audio saved at new_noised_speech\\p234_012_1.wav\n",
      "Noisy audio saved at new_noised_speech\\p234_012_2.wav\n",
      "Noisy audio saved at new_noised_speech\\p234_012_3.wav\n",
      "Noisy audio saved at new_noised_speech\\p234_013_1.wav\n",
      "Noisy audio saved at new_noised_speech\\p234_013_2.wav\n",
      "Noisy audio saved at new_noised_speech\\p234_013_3.wav\n",
      "Noisy audio saved at new_noised_speech\\p234_014_1.wav\n",
      "Noisy audio saved at new_noised_speech\\p234_014_2.wav\n",
      "Noisy audio saved at new_noised_speech\\p234_014_3.wav\n",
      "Noisy audio saved at new_noised_speech\\p234_015_1.wav\n",
      "Noisy audio saved at new_noised_speech\\p234_015_2.wav\n",
      "Noisy audio saved at new_noised_speech\\p234_015_3.wav\n"
     ]
    }
   ],
   "source": [
    "\n",
    "# Function to mix clean and noise audio with random noise\n",
    "def mix_audio_with_random_noise(clean_audio_path, noise_audio_folder, output_folder, num_files=3):\n",
    "    clean_audio, clean_sr = librosa.load(clean_audio_path, sr=None)\n",
    "    clean_filename = os.path.splitext(os.path.basename(clean_audio_path))[0]\n",
    "\n",
    "    for i in range(1, num_files + 1):\n",
    "        noise_file = random.choice(os.listdir(noise_audio_folder))\n",
    "        noise_file_path = os.path.join(noise_audio_folder, noise_file)\n",
    "        noise_audio, noise_sr = librosa.load(noise_file_path, sr=None)\n",
    "\n",
    "        # Ensure both audios have the same length\n",
    "        # min_length = min(len(clean_audio), len(noise_audio))\n",
    "        clean_audio_segment = clean_audio\n",
    "        noise_audio_segment = noise_audio[:len(clean_audio)]\n",
    "\n",
    "        # Mix the audio signals\n",
    "        mixed_audio = clean_audio_segment + noise_audio_segment * 0.2\n",
    "\n",
    "        # Save the mixed audio with numbering\n",
    "        output_file_path = os.path.join(output_folder, f\"{clean_filename}_{i}.wav\")\n",
    "        sf.write(output_file_path, mixed_audio, clean_sr)\n",
    "        print(f\"Noisy audio saved at {output_file_path}\")\n",
    "\n",
    "# Iterate through the clean audio files and mix with random noise\n",
    "for clean_filename in os.listdir(trimmed_clean_folder):\n",
    "    if clean_filename.endswith(\".wav\"):\n",
    "        clean_file_path = os.path.join(trimmed_clean_folder, clean_filename)\n",
    "        mix_audio_with_random_noise(clean_file_path, trimmed_noise_folder, output_folder, num_files=3)"
   ]
  },
  {
   "cell_type": "markdown",
   "metadata": {},
   "source": [
    "Creaing a pickle file to story the array only of speech signal"
   ]
  },
  {
   "cell_type": "code",
   "execution_count": null,
   "metadata": {},
   "outputs": [],
   "source": []
  }
 ],
 "metadata": {
  "kernelspec": {
   "display_name": "assignment",
   "language": "python",
   "name": "assignment"
  },
  "language_info": {
   "codemirror_mode": {
    "name": "ipython",
    "version": 3
   },
   "file_extension": ".py",
   "mimetype": "text/x-python",
   "name": "python",
   "nbconvert_exporter": "python",
   "pygments_lexer": "ipython3",
   "version": "3.7.9"
  }
 },
 "nbformat": 4,
 "nbformat_minor": 2
}
