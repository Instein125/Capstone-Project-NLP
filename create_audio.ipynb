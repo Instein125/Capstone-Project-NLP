{
 "cells": [
  {
   "cell_type": "code",
   "execution_count": 1,
   "metadata": {},
   "outputs": [],
   "source": [
    "import pandas as pd\n",
    "import numpy as np\n",
    "import os\n",
    "import soundfile as sf\n",
    "\n",
    "from glob import glob\n",
    "\n",
    "import librosa\n",
    "import librosa.display\n",
    "import IPython.display as ipd"
   ]
  },
  {
   "cell_type": "code",
   "execution_count": 5,
   "metadata": {},
   "outputs": [],
   "source": [
    "# Defining the paths to the clean audio and noise audio folders\n",
    "clean_audio_folder = 'test data/clean'\n",
    "noise_audio_folder = 'test data/noise'\n",
    "output_folder = 'noisy speech'"
   ]
  },
  {
   "cell_type": "code",
   "execution_count": 16,
   "metadata": {},
   "outputs": [],
   "source": [
    "import os\n",
    "import random\n",
    "import librosa\n",
    "\n",
    "def mix_audio(clean_folder, noise_folder, output_folder):\n",
    "    # Create the output folder if it doesn't exist\n",
    "    if not os.path.exists(output_folder):\n",
    "        os.makedirs(output_folder)\n",
    "\n",
    "    # List all clean audio files\n",
    "    clean_files = [f for f in os.listdir(clean_folder) if f.endswith(\".wav\")]\n",
    "\n",
    "    # List all noise audio files\n",
    "    noise_files = [f for f in os.listdir(noise_folder) if f.endswith(\".wav\")]\n",
    "\n",
    "    # Iterate through each clean audio file\n",
    "    for clean_file in clean_files:\n",
    "        # Load the clean audio\n",
    "        clean_path = os.path.join(clean_folder, clean_file)\n",
    "\n",
    "        clean_audio, _ = librosa.load(clean_path)\n",
    "        clean_audio, _ =  librosa.effects.trim(clean_audio, top_db=20)\n",
    "\n",
    "        # Randomly select a noise file\n",
    "        noise_file = random.choice(noise_files)\n",
    "        noise_path = os.path.join(noise_folder, noise_file)\n",
    "        noise_audio, _ = librosa.load(noise_path)\n",
    "        noise_audio, _ = librosa.effects.trim(noise_audio, top_db=20)\n",
    "\n",
    "        mixed_audio = clean_audio + noise_audio[:len(clean_audio)] * 0.4\n",
    "\n",
    "        # Define the output path\n",
    "        output_path = os.path.join(output_folder, f\"nosied_{clean_file}\")\n",
    "\n",
    "        # Export the mixed audio\n",
    "        sf.write(f\"nosied_{clean_file}\", mixed_audio, 22050)\n",
    "        # mixed_audio.export(output_path, format=\"wav\")"
   ]
  },
  {
   "cell_type": "code",
   "execution_count": 17,
   "metadata": {},
   "outputs": [],
   "source": [
    "mix_audio(clean_folder=clean_audio_folder, noise_folder=noise_audio_folder, output_folder=output_folder)"
   ]
  },
  {
   "cell_type": "code",
   "execution_count": null,
   "metadata": {},
   "outputs": [],
   "source": []
  }
 ],
 "metadata": {
  "kernelspec": {
   "display_name": "speech-denoiser",
   "language": "python",
   "name": "python3"
  },
  "language_info": {
   "codemirror_mode": {
    "name": "ipython",
    "version": 3
   },
   "file_extension": ".py",
   "mimetype": "text/x-python",
   "name": "python",
   "nbconvert_exporter": "python",
   "pygments_lexer": "ipython3",
   "version": "3.10.0"
  }
 },
 "nbformat": 4,
 "nbformat_minor": 2
}
