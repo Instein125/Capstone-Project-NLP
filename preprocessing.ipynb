{
 "cells": [
  {
   "cell_type": "code",
   "execution_count": 1,
   "metadata": {},
   "outputs": [],
   "source": [
    "import pandas as pd\n",
    "import numpy as np\n",
    "import matplotlib.pylab as plt\n",
    "import seaborn as sns\n",
    "import os\n",
    "import soundfile as sf\n",
    "import random\n",
    "\n",
    "from glob import glob\n",
    "\n",
    "import librosa\n",
    "import librosa.display\n",
    "import IPython.display as ipd\n",
    "\n",
    "from itertools import cycle"
   ]
  },
  {
   "cell_type": "code",
   "execution_count": 2,
   "metadata": {},
   "outputs": [],
   "source": [
    "# Seting a seed for reproducibility\n",
    "random.seed(1234) "
   ]
  },
  {
   "cell_type": "code",
   "execution_count": null,
   "metadata": {},
   "outputs": [],
   "source": [
    "# Defining the paths to the clean audio and noise audio folders\n",
    "clean_audio_folder = 'clean_audio'\n",
    "noise_audio_folder = 'noise_audio'\n",
    "\n",
    "# folder for storing spectogram value of noised and clean audio speech\n",
    "X_train_spec = 'x_train_noised_speech'\n",
    "Y_train_spec = 'y_train_clean_audio'\n",
    "\n",
    "# Ensure the output folders exist\n",
    "if not os.path.exists(trimmed_clean_folder):\n",
    "    os.makedirs(trimmed_clean_folder)\n",
    "if not os.path.exists(trimmed_noise_folder):\n",
    "    os.makedirs(trimmed_noise_folder)"
   ]
  }
 ],
 "metadata": {
  "kernelspec": {
   "display_name": "assignment",
   "language": "python",
   "name": "assignment"
  },
  "language_info": {
   "codemirror_mode": {
    "name": "ipython",
    "version": 3
   },
   "file_extension": ".py",
   "mimetype": "text/x-python",
   "name": "python",
   "nbconvert_exporter": "python",
   "pygments_lexer": "ipython3",
   "version": "3.7.9"
  }
 },
 "nbformat": 4,
 "nbformat_minor": 2
}
