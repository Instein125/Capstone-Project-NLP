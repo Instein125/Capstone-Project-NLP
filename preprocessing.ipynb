{
 "cells": [
  {
   "cell_type": "code",
   "execution_count": 9,
   "metadata": {},
   "outputs": [],
   "source": [
    "import pandas as pd\n",
    "import numpy as np\n",
    "import matplotlib.pylab as plt\n",
    "import seaborn as sns\n",
    "import os\n",
    "import soundfile as sf\n",
    "import random\n",
    "import pickle\n",
    "\n",
    "from glob import glob\n",
    "\n",
    "import librosa\n",
    "import librosa.display\n",
    "import IPython.display as ipd"
   ]
  },
  {
   "cell_type": "code",
   "execution_count": 2,
   "metadata": {},
   "outputs": [],
   "source": [
    "# Seting a seed for reproducibility\n",
    "random.seed(1234) "
   ]
  },
  {
   "cell_type": "code",
   "execution_count": 8,
   "metadata": {},
   "outputs": [],
   "source": [
    "# constants\n",
    "HOP_LENGTH = 256\n",
    "MONO = 22050\n",
    "SAMPLE_RATE = 16000\n",
    "FRAME_SIZE = 512\n",
    "OVERLAP_RATIO=0.3"
   ]
  },
  {
   "cell_type": "code",
   "execution_count": 13,
   "metadata": {},
   "outputs": [],
   "source": [
    "# Defining the paths to the clean audio and noise audio folders\n",
    "clean_audio_dir = 'clean_audio'\n",
    "noise_audio_dir = 'noise_audio'\n",
    "\n",
    "# folder for storing spectogram value of noised and clean audio speech\n",
    "X_train_spec_dir = 'x_train_noised_speech'\n",
    "Y_train_spec_dir = 'y_train_clean_audio'\n",
    "\n",
    "# folder for storing min max values dictionary\n",
    "min_max_value_dir = 'min_max_value_save'\n",
    "\n",
    "# Ensure the output folders exist\n",
    "if not os.path.exists(X_train_spec_dir):\n",
    "    os.makedirs(X_train_spec_dir)\n",
    "if not os.path.exists(Y_train_spec_dir):\n",
    "    os.makedirs(Y_train_spec_dir)\n",
    "if not os.path.exists(min_max_value_dir):\n",
    "    os.makedirs(min_max_value_dir)"
   ]
  },
  {
   "cell_type": "code",
   "execution_count": 14,
   "metadata": {},
   "outputs": [
    {
     "data": {
      "text/plain": [
       "\"\\n1. load clean and noise audio files\\n\\nfor each file in clean audio file perform the following steps:\\n2. trim clean and noise audio files\\n3. mix clean audio with random noise\\n4. generate log spectogram of noisy speech\\n5. mix max normalizarion of noisy speech\\n6. save log spectogram in X_train_spec folder\\n7. store orginal min max value of each log spectogram as dictionary {'save_path':{'min': ,'max': }}\\n\\nfinally save the pickle file of min max value\\n\""
      ]
     },
     "execution_count": 14,
     "metadata": {},
     "output_type": "execute_result"
    }
   ],
   "source": [
    "\"\"\"\n",
    "1. load clean and noise audio files\n",
    "\n",
    "for each file in clean audio file perform the following steps:\n",
    "2. trim clean and noise audio files\n",
    "3. mix clean audio with random noise\n",
    "4. generate log spectogram of noisy speech\n",
    "5. mix max normalizarion of noisy speech\n",
    "6. save log spectogram in X_train_spec folder\n",
    "7. store orginal min max value of each log spectogram as dictionary {'save_path':{'min': ,'max': }}\n",
    "\n",
    "finally save the pickle file of min max value\n",
    "\"\"\""
   ]
  },
  {
   "cell_type": "code",
   "execution_count": 21,
   "metadata": {},
   "outputs": [],
   "source": [
    "# 1. Load clean and noise audio files\n",
    "def load(file_path):\n",
    "        signal = librosa.load(file_path,\n",
    "                              sr=SAMPLE_RATE,\n",
    "                              mono=MONO)[0]\n",
    "        return signal\n",
    "\n",
    "# 2. Trim clean and noise audio files\n",
    "def trim_audio(audio, top_db=20):\n",
    "    audio_trimmed, _ = librosa.effects.trim(audio, top_db=top_db,hop_length=HOP_LENGTH)\n",
    "    return audio_trimmed\n",
    "\n",
    "# 3. Mix clean audio with random noise\n",
    "def mix_audio(clean_audio, noise_audio):\n",
    "    mixed_audio = clean_audio + noise_audio[:len(clean_audio)] * OVERLAP_RATIO\n",
    "    return mixed_audio\n",
    "\n",
    "# 4. Generate log spectrogram of noisy speech\n",
    "def extractor(signal):\n",
    "    stft = librosa.stft(signal,\n",
    "                            n_fft=FRAME_SIZE,\n",
    "                            hop_length=HOP_LENGTH)\n",
    "    spectrogram = np.abs(stft)\n",
    "    log_spectrogram = librosa.amplitude_to_db(spectrogram)\n",
    "    return log_spectrogram\n",
    "\n",
    "# 5. Mix max normalization of noisy speech\n",
    "def normalize(spectrogram, min_max_dict):\n",
    "    min_value = min_max_dict['min']\n",
    "    max_value = min_max_dict['max']\n",
    "    normalized_spectrogram = (spectrogram - min_value) / (max_value - min_value)\n",
    "    return normalized_spectrogram\n",
    "\n",
    "# 6. Save normalized log spectrogram in X_train_spec folder\n",
    "def save_normalized_spectrogram(spectrogram, output_folder, filename):   \n",
    "    save_path = os.path.join(output_folder, f\"{filename}.npy\")\n",
    "    np.save(save_path, spectrogram)\n",
    "    return save_path\n",
    "\n",
    "# 7. Save original min max value of each log spectrogram as a dictionary\n",
    "def store_min_max_value(save_path, min_val, max_val, min_max_values):\n",
    "    min_max_values[save_path] ={'min': min_val, 'max':max_val}\n",
    "\n",
    "# 8. saving pkl file of mix_max_value\n",
    "def save_pickle(save_path, data):\n",
    "     with open(save_path, 'wb') as f:\n",
    "          pickle.dump(data, f)\n"
   ]
  },
  {
   "cell_type": "code",
   "execution_count": 22,
   "metadata": {},
   "outputs": [
    {
     "name": "stdout",
     "output_type": "stream",
     "text": [
      "Processed file x_train_noised_speech\\p234_001.wav_spec.npy\n",
      "Processed file x_train_noised_speech\\p234_009.wav_spec.npy\n",
      "Processed file x_train_noised_speech\\p234_010.wav_spec.npy\n",
      "Processed file x_train_noised_speech\\p234_012.wav_spec.npy\n",
      "Processed file x_train_noised_speech\\p234_013.wav_spec.npy\n",
      "Processed file x_train_noised_speech\\p234_014.wav_spec.npy\n",
      "Processed file x_train_noised_speech\\p234_015.wav_spec.npy\n"
     ]
    }
   ],
   "source": [
    "# Iterate through each file in the clean audio folder\n",
    "min_max_values = {}\n",
    "for filename in os.listdir(clean_audio_dir):\n",
    "    if filename.endswith(\".wav\"):\n",
    "        clean_audio_path = os.path.join(clean_audio_dir, filename)\n",
    "\n",
    "        # Load clean audio\n",
    "        clean_audio = load(clean_audio_path)\n",
    "\n",
    "        # Trim clean audio\n",
    "        trimmed_clean_audio = trim_audio(clean_audio)\n",
    "\n",
    "        # Mix clean audio with random noise\n",
    "        noise_audio_path = random.choice(os.listdir(noise_audio_dir))\n",
    "        noise_audio_path = os.path.join(noise_audio_dir, noise_audio_path)  # Path to the noise audio folder\n",
    "        noise_audio = load(noise_audio_path)\n",
    "        trimmed_noise_audio = trim_audio(noise_audio)\n",
    "        mixed_audio = mix_audio(trimmed_clean_audio, trimmed_noise_audio)\n",
    "\n",
    "        # Generate log spectrogram of noisy speech\n",
    "        log_spec = extractor(mixed_audio)\n",
    "\n",
    "        \n",
    "        # save_min_max_values(log_spec, f'min_max_values_{filename}.pkl')\n",
    "\n",
    "        # Mix max normalization of noisy speech\n",
    "        normalized_spec = normalize(log_spec, {'min': np.min(log_spec), 'max': np.max(log_spec)})\n",
    "\n",
    "        # Save normalized log spectrogram in X_train_spec folder\n",
    "        save_path = save_normalized_spectrogram(normalized_spec, X_train_spec_dir, f'{filename}_spec')\n",
    "\n",
    "        # Save original min max value of each log spectrogram as a dictionary\n",
    "        store_min_max_value(save_path, log_spec.min(), log_spec.max(), min_max_values)\n",
    "\n",
    "        print(f\"Processed file {save_path}\")\n",
    "\n",
    "\n",
    "# saving min_max_values dictionary\n",
    "save_path = os.path.join(min_max_value_dir, \"min_max_values.pkl\")\n",
    "save_pickle(save_path, min_max_values)\n"
   ]
  },
  {
   "cell_type": "code",
   "execution_count": 23,
   "metadata": {},
   "outputs": [
    {
     "data": {
      "text/plain": [
       "{'x_train_noised_speech\\\\p234_001.wav_spec.npy': {'min': -52.605247,\n",
       "  'max': 27.39475},\n",
       " 'x_train_noised_speech\\\\p234_009.wav_spec.npy': {'min': -53.486153,\n",
       "  'max': 26.513845},\n",
       " 'x_train_noised_speech\\\\p234_010.wav_spec.npy': {'min': -49.832893,\n",
       "  'max': 30.167105},\n",
       " 'x_train_noised_speech\\\\p234_012.wav_spec.npy': {'min': -54.21559,\n",
       "  'max': 25.784407},\n",
       " 'x_train_noised_speech\\\\p234_013.wav_spec.npy': {'min': -51.44835,\n",
       "  'max': 28.551651},\n",
       " 'x_train_noised_speech\\\\p234_014.wav_spec.npy': {'min': -52.17472,\n",
       "  'max': 27.82528},\n",
       " 'x_train_noised_speech\\\\p234_015.wav_spec.npy': {'min': -47.565178,\n",
       "  'max': 32.434822}}"
      ]
     },
     "execution_count": 23,
     "metadata": {},
     "output_type": "execute_result"
    }
   ],
   "source": [
    "min_max_values"
   ]
  },
  {
   "cell_type": "code",
   "execution_count": null,
   "metadata": {},
   "outputs": [],
   "source": []
  }
 ],
 "metadata": {
  "kernelspec": {
   "display_name": "assignment",
   "language": "python",
   "name": "assignment"
  },
  "language_info": {
   "codemirror_mode": {
    "name": "ipython",
    "version": 3
   },
   "file_extension": ".py",
   "mimetype": "text/x-python",
   "name": "python",
   "nbconvert_exporter": "python",
   "pygments_lexer": "ipython3",
   "version": "3.7.9"
  }
 },
 "nbformat": 4,
 "nbformat_minor": 2
}
